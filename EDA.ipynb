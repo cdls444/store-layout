{
 "cells": [
  {
   "cell_type": "markdown",
   "id": "67e29cfb",
   "metadata": {},
   "source": [
    "# Import Libraries"
   ]
  },
  {
   "cell_type": "code",
   "execution_count": 33,
   "id": "979c6044",
   "metadata": {},
   "outputs": [],
   "source": [
    "# data manipulation and analysis\n",
    "import pandas as pd\n",
    "# import matplotlib.pyplot as plt\n",
    "# import seaborn as sns\n",
    "\n",
    "# data preprocessing\n",
    "from sklearn.feature_extraction.text import TfidfVectorizer\n",
    "from sklearn.metrics.pairwise import linear_kernel\n",
    "from sklearn.model_selection import train_test_split\n",
    "\n",
    "# classifier\n",
    "from sklearn.ensemble import RandomForestClassifier\n",
    "# from sklearn.linear_model import LogisticRegression\n",
    "# from sklearn.svm import LinearSVC\n",
    "\n",
    "# evaluation\n",
    "# from sklearn.metrics import accuracy_score\n",
    "import pickle\n",
    "\n",
    "import warnings\n",
    "warnings.filterwarnings(\"ignore\")"
   ]
  },
  {
   "cell_type": "markdown",
   "id": "98367906",
   "metadata": {},
   "source": [
    "# Load the Data"
   ]
  },
  {
   "cell_type": "code",
   "execution_count": 34,
   "id": "29527945",
   "metadata": {},
   "outputs": [],
   "source": [
    "# Load data from Excel files\n",
    "df = pd.read_csv('datasets/items_data.csv')"
   ]
  },
  {
   "cell_type": "code",
   "execution_count": 4,
   "id": "f681605f",
   "metadata": {},
   "outputs": [],
   "source": [
    "# df.sample(5)"
   ]
  },
  {
   "cell_type": "code",
   "execution_count": 5,
   "id": "1f6e26d0",
   "metadata": {},
   "outputs": [],
   "source": [
    "# df.info()"
   ]
  },
  {
   "cell_type": "markdown",
   "id": "4b0edb3c",
   "metadata": {},
   "source": [
    "# Split the Data"
   ]
  },
  {
   "cell_type": "code",
   "execution_count": 35,
   "id": "2c099a78",
   "metadata": {},
   "outputs": [],
   "source": [
    "# Select features for the model\n",
    "features = ['item_width_cm', 'item_height_cm', 'item_wide_cm','item_weight_gram']\n",
    "\n",
    "# Define target variable\n",
    "target = 'shelf_layer_description'\n",
    "\n",
    "# Split the data into training and testing sets\n",
    "X_train, X_test, y_train, y_test = train_test_split(df[features], df[target], test_size=0.2, random_state=42)"
   ]
  },
  {
   "cell_type": "markdown",
   "id": "df53c6dc",
   "metadata": {},
   "source": [
    "# Models"
   ]
  },
  {
   "cell_type": "code",
   "execution_count": 36,
   "id": "3e97df3e",
   "metadata": {},
   "outputs": [],
   "source": [
    "# RANDOM FOREST\n",
    "\n",
    "model_rfc = RandomForestClassifier(n_estimators=100, random_state=42)\n",
    "model_rfc.fit(X_train, y_train)\n",
    "\n",
    "with open('./models/model_rfc.pkl', 'wb') as f:\n",
    "    pickle.dump(model_rfc, f)"
   ]
  },
  {
   "cell_type": "code",
   "execution_count": 37,
   "id": "71651ded",
   "metadata": {},
   "outputs": [],
   "source": [
    "\n",
    "with open('./models/model_rfc.pkl', 'rb') as f:\n",
    "    loaded_model_rfc = pickle.load(f)\n",
    "\n",
    "\n",
    "# Create a DataFrame with the user's input\n",
    "user_input = pd.DataFrame({\n",
    "    'item_width_cm': [40],  \n",
    "    'item_height_cm': [450], \n",
    "    'item_wide_cm': [150], \n",
    "    'item_weight_gram': [380],  \n",
    "})\n"
   ]
  },
  {
   "cell_type": "code",
   "execution_count": 38,
   "id": "6e7d3af0",
   "metadata": {},
   "outputs": [
    {
     "data": {
      "text/plain": [
       "EYE_LEVEL    0.61\n",
       "UPPER        0.37\n",
       "BOTTOM       0.01\n",
       "MID_LEVEL    0.01\n",
       "Name: 0, dtype: float64"
      ]
     },
     "execution_count": 38,
     "metadata": {},
     "output_type": "execute_result"
    }
   ],
   "source": [
    "# Predict the probabilities for each class\n",
    "predicted_probabilities = loaded_model_rfc.predict_proba(user_input)\n",
    "\n",
    "# Create a DataFrame with class probabilities\n",
    "probability_df = pd.DataFrame(predicted_probabilities, columns=loaded_model_rfc.classes_)\n",
    "\n",
    "# Get the top 4 recommendations\n",
    "top_4_recommendations = probability_df.iloc[0].nlargest()\n",
    "\n",
    "# Display the top 4 recommendations\n",
    "top_4_recommendations"
   ]
  },
  {
   "cell_type": "code",
   "execution_count": 32,
   "id": "73c1b333",
   "metadata": {},
   "outputs": [
    {
     "name": "stdout",
     "output_type": "stream",
     "text": [
      "1.2.2\n"
     ]
    }
   ],
   "source": [
    "# import sklearn\n",
    "# print(sklearn.__version__)"
   ]
  },
  {
   "cell_type": "code",
   "execution_count": null,
   "id": "2fdbe3dc",
   "metadata": {},
   "outputs": [],
   "source": []
  },
  {
   "cell_type": "code",
   "execution_count": null,
   "id": "2816575d",
   "metadata": {},
   "outputs": [],
   "source": []
  },
  {
   "cell_type": "code",
   "execution_count": null,
   "id": "84d24de2",
   "metadata": {},
   "outputs": [],
   "source": []
  },
  {
   "cell_type": "code",
   "execution_count": null,
   "id": "d8534a18",
   "metadata": {},
   "outputs": [],
   "source": []
  },
  {
   "cell_type": "code",
   "execution_count": null,
   "id": "fe5357e5",
   "metadata": {},
   "outputs": [],
   "source": []
  },
  {
   "cell_type": "code",
   "execution_count": null,
   "id": "6a1f64e2",
   "metadata": {},
   "outputs": [],
   "source": []
  }
 ],
 "metadata": {
  "kernelspec": {
   "display_name": "Python 3 (ipykernel)",
   "language": "python",
   "name": "python3"
  },
  "language_info": {
   "codemirror_mode": {
    "name": "ipython",
    "version": 3
   },
   "file_extension": ".py",
   "mimetype": "text/x-python",
   "name": "python",
   "nbconvert_exporter": "python",
   "pygments_lexer": "ipython3",
   "version": "3.11.3"
  }
 },
 "nbformat": 4,
 "nbformat_minor": 5
}
