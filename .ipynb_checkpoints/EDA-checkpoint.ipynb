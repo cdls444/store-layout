{
 "cells": [
  {
   "cell_type": "markdown",
   "id": "67e29cfb",
   "metadata": {},
   "source": [
    "# Import Libraries"
   ]
  },
  {
   "cell_type": "code",
   "execution_count": 21,
   "id": "979c6044",
   "metadata": {},
   "outputs": [],
   "source": [
    "# data manipulation and analysis\n",
    "import pandas as pd\n",
    "import matplotlib.pyplot as plt\n",
    "import seaborn as sns\n",
    "\n",
    "# data preprocessing\n",
    "from sklearn.feature_extraction.text import TfidfVectorizer\n",
    "from sklearn.metrics.pairwise import linear_kernel"
   ]
  },
  {
   "cell_type": "code",
   "execution_count": 22,
   "id": "29527945",
   "metadata": {},
   "outputs": [],
   "source": [
    "# Load data from Excel files\n",
    "df = pd.read_csv('datasets/items_data.csv')"
   ]
  },
  {
   "cell_type": "code",
   "execution_count": 23,
   "id": "f681605f",
   "metadata": {},
   "outputs": [
    {
     "data": {
      "text/html": [
       "<div>\n",
       "<style scoped>\n",
       "    .dataframe tbody tr th:only-of-type {\n",
       "        vertical-align: middle;\n",
       "    }\n",
       "\n",
       "    .dataframe tbody tr th {\n",
       "        vertical-align: top;\n",
       "    }\n",
       "\n",
       "    .dataframe thead th {\n",
       "        text-align: right;\n",
       "    }\n",
       "</style>\n",
       "<table border=\"1\" class=\"dataframe\">\n",
       "  <thead>\n",
       "    <tr style=\"text-align: right;\">\n",
       "      <th></th>\n",
       "      <th>item_no</th>\n",
       "      <th>item_category</th>\n",
       "      <th>item_description</th>\n",
       "      <th>item_width_mm</th>\n",
       "      <th>item_height_mm</th>\n",
       "      <th>item_wide_mm</th>\n",
       "      <th>item_weight_gram</th>\n",
       "      <th>shelf_layer_description</th>\n",
       "      <th>item_quantity</th>\n",
       "      <th>shelf_width_cm</th>\n",
       "      <th>shelf_height_cm</th>\n",
       "      <th>shelf_depth_cm</th>\n",
       "      <th>spaceabove_shelf_cm</th>\n",
       "    </tr>\n",
       "  </thead>\n",
       "  <tbody>\n",
       "    <tr>\n",
       "      <th>25</th>\n",
       "      <td>8486034</td>\n",
       "      <td>SNACKS</td>\n",
       "      <td>DORITOS COOL RANCH</td>\n",
       "      <td>70</td>\n",
       "      <td>60</td>\n",
       "      <td>70</td>\n",
       "      <td>400</td>\n",
       "      <td>EYE_LEVEL</td>\n",
       "      <td>10</td>\n",
       "      <td>73</td>\n",
       "      <td>2.6</td>\n",
       "      <td>57.5</td>\n",
       "      <td>22.8</td>\n",
       "    </tr>\n",
       "    <tr>\n",
       "      <th>29</th>\n",
       "      <td>8486038</td>\n",
       "      <td>SNACKS</td>\n",
       "      <td>FAMOUS AMOS CHOCOLATE CHIP COOKIES</td>\n",
       "      <td>65</td>\n",
       "      <td>55</td>\n",
       "      <td>65</td>\n",
       "      <td>350</td>\n",
       "      <td>EYE_LEVEL</td>\n",
       "      <td>11</td>\n",
       "      <td>73</td>\n",
       "      <td>2.6</td>\n",
       "      <td>57.5</td>\n",
       "      <td>22.8</td>\n",
       "    </tr>\n",
       "    <tr>\n",
       "      <th>28</th>\n",
       "      <td>8486037</td>\n",
       "      <td>CANDY</td>\n",
       "      <td>KIT KAT</td>\n",
       "      <td>45</td>\n",
       "      <td>40</td>\n",
       "      <td>45</td>\n",
       "      <td>200</td>\n",
       "      <td>EYE_LEVEL</td>\n",
       "      <td>30</td>\n",
       "      <td>73</td>\n",
       "      <td>2.6</td>\n",
       "      <td>57.5</td>\n",
       "      <td>22.8</td>\n",
       "    </tr>\n",
       "    <tr>\n",
       "      <th>1</th>\n",
       "      <td>3851842</td>\n",
       "      <td>CHIPS</td>\n",
       "      <td>DORITOS CHEESE SUPREME</td>\n",
       "      <td>150</td>\n",
       "      <td>220</td>\n",
       "      <td>80</td>\n",
       "      <td>270</td>\n",
       "      <td>UPPER</td>\n",
       "      <td>10</td>\n",
       "      <td>73</td>\n",
       "      <td>2.6</td>\n",
       "      <td>57.5</td>\n",
       "      <td>22.8</td>\n",
       "    </tr>\n",
       "    <tr>\n",
       "      <th>5</th>\n",
       "      <td>2872530</td>\n",
       "      <td>CHIPS</td>\n",
       "      <td>DORITOS CORN CHIPS CHEESE SUPREME</td>\n",
       "      <td>140</td>\n",
       "      <td>190</td>\n",
       "      <td>80</td>\n",
       "      <td>60</td>\n",
       "      <td>UPPER</td>\n",
       "      <td>20</td>\n",
       "      <td>73</td>\n",
       "      <td>2.6</td>\n",
       "      <td>57.5</td>\n",
       "      <td>22.8</td>\n",
       "    </tr>\n",
       "  </tbody>\n",
       "</table>\n",
       "</div>"
      ],
      "text/plain": [
       "    item_no item_category                    item_description  item_width_mm  \\\n",
       "25  8486034        SNACKS                  DORITOS COOL RANCH             70   \n",
       "29  8486038        SNACKS  FAMOUS AMOS CHOCOLATE CHIP COOKIES             65   \n",
       "28  8486037         CANDY                             KIT KAT             45   \n",
       "1   3851842         CHIPS              DORITOS CHEESE SUPREME            150   \n",
       "5   2872530         CHIPS   DORITOS CORN CHIPS CHEESE SUPREME            140   \n",
       "\n",
       "    item_height_mm  item_wide_mm  item_weight_gram shelf_layer_description  \\\n",
       "25              60            70               400               EYE_LEVEL   \n",
       "29              55            65               350               EYE_LEVEL   \n",
       "28              40            45               200               EYE_LEVEL   \n",
       "1              220            80               270                   UPPER   \n",
       "5              190            80                60                   UPPER   \n",
       "\n",
       "    item_quantity  shelf_width_cm  shelf_height_cm  shelf_depth_cm  \\\n",
       "25             10              73              2.6            57.5   \n",
       "29             11              73              2.6            57.5   \n",
       "28             30              73              2.6            57.5   \n",
       "1              10              73              2.6            57.5   \n",
       "5              20              73              2.6            57.5   \n",
       "\n",
       "    spaceabove_shelf_cm  \n",
       "25                 22.8  \n",
       "29                 22.8  \n",
       "28                 22.8  \n",
       "1                  22.8  \n",
       "5                  22.8  "
      ]
     },
     "execution_count": 23,
     "metadata": {},
     "output_type": "execute_result"
    }
   ],
   "source": [
    "df.sample(5)"
   ]
  },
  {
   "cell_type": "code",
   "execution_count": 24,
   "id": "1f6e26d0",
   "metadata": {},
   "outputs": [
    {
     "name": "stdout",
     "output_type": "stream",
     "text": [
      "<class 'pandas.core.frame.DataFrame'>\n",
      "RangeIndex: 60 entries, 0 to 59\n",
      "Data columns (total 13 columns):\n",
      " #   Column                   Non-Null Count  Dtype  \n",
      "---  ------                   --------------  -----  \n",
      " 0   item_no                  60 non-null     int64  \n",
      " 1   item_category            60 non-null     object \n",
      " 2   item_description         60 non-null     object \n",
      " 3   item_width_mm            60 non-null     int64  \n",
      " 4   item_height_mm           60 non-null     int64  \n",
      " 5   item_wide_mm             60 non-null     int64  \n",
      " 6   item_weight_gram         60 non-null     int64  \n",
      " 7   shelf_layer_description  60 non-null     object \n",
      " 8   item_quantity            60 non-null     int64  \n",
      " 9   shelf_width_cm           60 non-null     int64  \n",
      " 10  shelf_height_cm          60 non-null     float64\n",
      " 11  shelf_depth_cm           60 non-null     float64\n",
      " 12  spaceabove_shelf_cm      60 non-null     float64\n",
      "dtypes: float64(3), int64(7), object(3)\n",
      "memory usage: 6.2+ KB\n"
     ]
    }
   ],
   "source": [
    "df.info()"
   ]
  },
  {
   "cell_type": "code",
   "execution_count": 25,
   "id": "2c099a78",
   "metadata": {},
   "outputs": [
    {
     "data": {
      "text/html": [
       "<style>#sk-container-id-3 {color: black;background-color: white;}#sk-container-id-3 pre{padding: 0;}#sk-container-id-3 div.sk-toggleable {background-color: white;}#sk-container-id-3 label.sk-toggleable__label {cursor: pointer;display: block;width: 100%;margin-bottom: 0;padding: 0.3em;box-sizing: border-box;text-align: center;}#sk-container-id-3 label.sk-toggleable__label-arrow:before {content: \"▸\";float: left;margin-right: 0.25em;color: #696969;}#sk-container-id-3 label.sk-toggleable__label-arrow:hover:before {color: black;}#sk-container-id-3 div.sk-estimator:hover label.sk-toggleable__label-arrow:before {color: black;}#sk-container-id-3 div.sk-toggleable__content {max-height: 0;max-width: 0;overflow: hidden;text-align: left;background-color: #f0f8ff;}#sk-container-id-3 div.sk-toggleable__content pre {margin: 0.2em;color: black;border-radius: 0.25em;background-color: #f0f8ff;}#sk-container-id-3 input.sk-toggleable__control:checked~div.sk-toggleable__content {max-height: 200px;max-width: 100%;overflow: auto;}#sk-container-id-3 input.sk-toggleable__control:checked~label.sk-toggleable__label-arrow:before {content: \"▾\";}#sk-container-id-3 div.sk-estimator input.sk-toggleable__control:checked~label.sk-toggleable__label {background-color: #d4ebff;}#sk-container-id-3 div.sk-label input.sk-toggleable__control:checked~label.sk-toggleable__label {background-color: #d4ebff;}#sk-container-id-3 input.sk-hidden--visually {border: 0;clip: rect(1px 1px 1px 1px);clip: rect(1px, 1px, 1px, 1px);height: 1px;margin: -1px;overflow: hidden;padding: 0;position: absolute;width: 1px;}#sk-container-id-3 div.sk-estimator {font-family: monospace;background-color: #f0f8ff;border: 1px dotted black;border-radius: 0.25em;box-sizing: border-box;margin-bottom: 0.5em;}#sk-container-id-3 div.sk-estimator:hover {background-color: #d4ebff;}#sk-container-id-3 div.sk-parallel-item::after {content: \"\";width: 100%;border-bottom: 1px solid gray;flex-grow: 1;}#sk-container-id-3 div.sk-label:hover label.sk-toggleable__label {background-color: #d4ebff;}#sk-container-id-3 div.sk-serial::before {content: \"\";position: absolute;border-left: 1px solid gray;box-sizing: border-box;top: 0;bottom: 0;left: 50%;z-index: 0;}#sk-container-id-3 div.sk-serial {display: flex;flex-direction: column;align-items: center;background-color: white;padding-right: 0.2em;padding-left: 0.2em;position: relative;}#sk-container-id-3 div.sk-item {position: relative;z-index: 1;}#sk-container-id-3 div.sk-parallel {display: flex;align-items: stretch;justify-content: center;background-color: white;position: relative;}#sk-container-id-3 div.sk-item::before, #sk-container-id-3 div.sk-parallel-item::before {content: \"\";position: absolute;border-left: 1px solid gray;box-sizing: border-box;top: 0;bottom: 0;left: 50%;z-index: -1;}#sk-container-id-3 div.sk-parallel-item {display: flex;flex-direction: column;z-index: 1;position: relative;background-color: white;}#sk-container-id-3 div.sk-parallel-item:first-child::after {align-self: flex-end;width: 50%;}#sk-container-id-3 div.sk-parallel-item:last-child::after {align-self: flex-start;width: 50%;}#sk-container-id-3 div.sk-parallel-item:only-child::after {width: 0;}#sk-container-id-3 div.sk-dashed-wrapped {border: 1px dashed gray;margin: 0 0.4em 0.5em 0.4em;box-sizing: border-box;padding-bottom: 0.4em;background-color: white;}#sk-container-id-3 div.sk-label label {font-family: monospace;font-weight: bold;display: inline-block;line-height: 1.2em;}#sk-container-id-3 div.sk-label-container {text-align: center;}#sk-container-id-3 div.sk-container {/* jupyter's `normalize.less` sets `[hidden] { display: none; }` but bootstrap.min.css set `[hidden] { display: none !important; }` so we also need the `!important` here to be able to override the default hidden behavior on the sphinx rendered scikit-learn.org. See: https://github.com/scikit-learn/scikit-learn/issues/21755 */display: inline-block !important;position: relative;}#sk-container-id-3 div.sk-text-repr-fallback {display: none;}</style><div id=\"sk-container-id-3\" class=\"sk-top-container\"><div class=\"sk-text-repr-fallback\"><pre>RandomForestClassifier(random_state=42)</pre><b>In a Jupyter environment, please rerun this cell to show the HTML representation or trust the notebook. <br />On GitHub, the HTML representation is unable to render, please try loading this page with nbviewer.org.</b></div><div class=\"sk-container\" hidden><div class=\"sk-item\"><div class=\"sk-estimator sk-toggleable\"><input class=\"sk-toggleable__control sk-hidden--visually\" id=\"sk-estimator-id-3\" type=\"checkbox\" checked><label for=\"sk-estimator-id-3\" class=\"sk-toggleable__label sk-toggleable__label-arrow\">RandomForestClassifier</label><div class=\"sk-toggleable__content\"><pre>RandomForestClassifier(random_state=42)</pre></div></div></div></div></div>"
      ],
      "text/plain": [
       "RandomForestClassifier(random_state=42)"
      ]
     },
     "execution_count": 25,
     "metadata": {},
     "output_type": "execute_result"
    }
   ],
   "source": [
    "from sklearn.model_selection import train_test_split\n",
    "from sklearn.ensemble import RandomForestClassifier\n",
    "\n",
    "# Select features for the model\n",
    "features = ['item_width_mm', 'item_height_mm', 'item_wide_mm','item_weight_gram']\n",
    "\n",
    "# Define target variable\n",
    "target = 'shelf_layer_description'\n",
    "\n",
    "# Split the data into training and testing sets\n",
    "X_train, X_test, y_train, y_test = train_test_split(df[features], df[target], test_size=0.2, random_state=42)\n",
    "\n",
    "# Train a machine learning model (e.g., Random Forest)\n",
    "model = RandomForestClassifier(n_estimators=100, random_state=42)\n",
    "model.fit(X_train, y_train)\n"
   ]
  },
  {
   "cell_type": "code",
   "execution_count": 28,
   "id": "71651ded",
   "metadata": {},
   "outputs": [],
   "source": [
    "# Create a DataFrame with the user's input\n",
    "user_input = pd.DataFrame({\n",
    "    'item_width_mm': [40],  \n",
    "    'item_height_mm': [450], \n",
    "    'item_wide_mm': [150], \n",
    "    'item_weight_gram': [180],  \n",
    "})\n",
    "\n",
    "# Predict the recommended shelf layer for the user's input\n",
    "recommended_layer = model.predict(user_input)"
   ]
  },
  {
   "cell_type": "code",
   "execution_count": 29,
   "id": "6e7d3af0",
   "metadata": {},
   "outputs": [
    {
     "data": {
      "text/plain": [
       "array(['UPPER'], dtype=object)"
      ]
     },
     "execution_count": 29,
     "metadata": {},
     "output_type": "execute_result"
    }
   ],
   "source": [
    "recommended_layer"
   ]
  },
  {
   "cell_type": "code",
   "execution_count": null,
   "id": "aee82b29",
   "metadata": {},
   "outputs": [],
   "source": []
  },
  {
   "cell_type": "code",
   "execution_count": null,
   "id": "73c1b333",
   "metadata": {},
   "outputs": [],
   "source": []
  },
  {
   "cell_type": "code",
   "execution_count": null,
   "id": "2fdbe3dc",
   "metadata": {},
   "outputs": [],
   "source": []
  },
  {
   "cell_type": "code",
   "execution_count": 30,
   "id": "a682f895",
   "metadata": {},
   "outputs": [
    {
     "data": {
      "text/plain": [
       "UPPER        0.50\n",
       "EYE_LEVEL    0.48\n",
       "BOTTOM       0.01\n",
       "MID_LEVEL    0.01\n",
       "Name: 0, dtype: float64"
      ]
     },
     "execution_count": 30,
     "metadata": {},
     "output_type": "execute_result"
    }
   ],
   "source": [
    "# Predict the probabilities for each class\n",
    "predicted_probabilities = model.predict_proba(user_input)\n",
    "\n",
    "# Create a DataFrame with class probabilities\n",
    "probability_df = pd.DataFrame(predicted_probabilities, columns=model.classes_)\n",
    "\n",
    "# Get the top 5 recommendations\n",
    "top_5_recommendations = probability_df.iloc[0].nlargest(5)\n",
    "\n",
    "# Display the top 5 recommendations\n",
    "top_5_recommendations\n"
   ]
  },
  {
   "cell_type": "code",
   "execution_count": null,
   "id": "2816575d",
   "metadata": {},
   "outputs": [],
   "source": []
  },
  {
   "cell_type": "code",
   "execution_count": null,
   "id": "0f93c748",
   "metadata": {},
   "outputs": [],
   "source": []
  },
  {
   "cell_type": "markdown",
   "id": "7994d654",
   "metadata": {},
   "source": [
    "# FOR APP"
   ]
  },
  {
   "cell_type": "code",
   "execution_count": 18,
   "id": "84d24de2",
   "metadata": {},
   "outputs": [
    {
     "name": "stderr",
     "output_type": "stream",
     "text": [
      "2023-10-16 14:12:05.228 \n",
      "  \u001b[33m\u001b[1mWarning:\u001b[0m to view this Streamlit app on a browser, run it with the following\n",
      "  command:\n",
      "\n",
      "    streamlit run C:\\Users\\c.b.de.los.santos\\AppData\\Local\\anaconda3\\Lib\\site-packages\\ipykernel_launcher.py [ARGUMENTS]\n"
     ]
    }
   ],
   "source": [
    "# Import the necessary libraries and modules\n",
    "import streamlit as st\n",
    "import pandas as pd\n",
    "from sklearn.ensemble import RandomForestClassifier\n",
    "from sklearn.model_selection import train_test_split  # Add this line\n",
    "\n",
    "# Load your data\n",
    "df = pd.read_csv('datasets/items_data.csv')\n",
    "\n",
    "# Train your machine learning model\n",
    "features = ['item_width_mm', 'item_height_mm', 'item_weight_gram','item_wide_mm']\n",
    "target = 'shelf_layer_description'\n",
    "\n",
    "X_train, _, y_train, _ = train_test_split(df[features], df[target], test_size=0.2, random_state=42)\n",
    "model = RandomForestClassifier(n_estimators=100, random_state=42)\n",
    "model.fit(X_train, y_train)\n",
    "\n",
    "# Streamlit UI components\n",
    "st.title(\"Shelf Layer Recommendation App\")\n",
    "\n",
    "# Input fields for the user\n",
    "item_width_mm = st.number_input(\"Item Width (mm)\", value=200)\n",
    "item_height_mm = st.number_input(\"Item Height (mm)\", value=250)\n",
    "item_wide_mm = st.number_input(\"Item Wide (mm)\", value=180)\n",
    "item_weight_gram = st.number_input(\"Item Weight (grams)\", value=180)\n",
    "\n",
    "\n",
    "# Predict the recommended shelf layer\n",
    "if st.button(\"Get Recommendation\"):\n",
    "    user_input = pd.DataFrame({\n",
    "        'item_width_mm': [item_width_mm],\n",
    "        'item_height_mm': [item_height_mm],\n",
    "        'item_weight_gram': [item_weight_gram],\n",
    "        'item_wide_mm': [item_wide_mm]\n",
    "\n",
    "    })\n",
    "    recommended_layer = model.predict(user_input)\n",
    "\n",
    "    st.write(f\"Recommended Shelf Layer: {recommended_layer[0]}\")\n",
    "\n",
    "    # Calculate probabilities only after user input\n",
    "    predicted_probabilities = model.predict_proba(user_input)\n",
    "\n",
    "    # Optionally, display the top 5 recommendations\n",
    "    if st.checkbox(\"Show Top 5 Recommendations\"):\n",
    "        probability_df = pd.DataFrame(predicted_probabilities, columns=model.classes_)\n",
    "        top_5_recommendations = probability_df.iloc[0].nlargest(5)\n",
    "        st.write(top_5_recommendations)\n"
   ]
  },
  {
   "cell_type": "code",
   "execution_count": 19,
   "id": "d8534a18",
   "metadata": {},
   "outputs": [
    {
     "ename": "SyntaxError",
     "evalue": "invalid syntax (848174781.py, line 1)",
     "output_type": "error",
     "traceback": [
      "\u001b[1;36m  Cell \u001b[1;32mIn[19], line 1\u001b[1;36m\u001b[0m\n\u001b[1;33m    streamlit run C:\\Users\\c.b.de.los.santos\\AppData\\Local\\anaconda3\\Lib\\site-packages\\ipykernel_launcher.py [ARGUMENTS]\u001b[0m\n\u001b[1;37m              ^\u001b[0m\n\u001b[1;31mSyntaxError\u001b[0m\u001b[1;31m:\u001b[0m invalid syntax\n"
     ]
    }
   ],
   "source": []
  },
  {
   "cell_type": "code",
   "execution_count": null,
   "id": "fe5357e5",
   "metadata": {},
   "outputs": [],
   "source": []
  }
 ],
 "metadata": {
  "kernelspec": {
   "display_name": "Python 3 (ipykernel)",
   "language": "python",
   "name": "python3"
  },
  "language_info": {
   "codemirror_mode": {
    "name": "ipython",
    "version": 3
   },
   "file_extension": ".py",
   "mimetype": "text/x-python",
   "name": "python",
   "nbconvert_exporter": "python",
   "pygments_lexer": "ipython3",
   "version": "3.11.3"
  }
 },
 "nbformat": 4,
 "nbformat_minor": 5
}
